{
  "nbformat": 4,
  "nbformat_minor": 0,
  "metadata": {
    "colab": {
      "name": "1st_project",
      "provenance": [],
      "collapsed_sections": [],
      "authorship_tag": "ABX9TyPW+JVnWhwwdck/jyV7sD9E",
      "include_colab_link": true
    },
    "kernelspec": {
      "name": "python3",
      "display_name": "Python 3"
    },
    "language_info": {
      "name": "python"
    }
  },
  "cells": [
    {
      "cell_type": "markdown",
      "metadata": {
        "id": "view-in-github",
        "colab_type": "text"
      },
      "source": [
        "<a href=\"https://colab.research.google.com/github/udy53/hfgkjagdsf/blob/main/1st_project.ipynb\" target=\"_parent\"><img src=\"https://colab.research.google.com/assets/colab-badge.svg\" alt=\"Open In Colab\"/></a>"
      ]
    },
    {
      "cell_type": "code",
      "execution_count": null,
      "metadata": {
        "id": "QP0VK2zXCpiY"
      },
      "outputs": [],
      "source": [
        "#dataset @ http://finance.yahoo.com/quote/MSFT/history/\n"
      ]
    },
    {
      "cell_type": "markdown",
      "source": [
        ""
      ],
      "metadata": {
        "id": "hvPvw_EAJmqs"
      }
    },
    {
      "cell_type": "code",
      "source": [
        "#imports all the datas from the MSFT.csv\n",
        "import pandas as pd \n",
        "df= pd.read_csv('MSFT.csv')\n",
        "df\n"
      ],
      "metadata": {
        "colab": {
          "base_uri": "https://localhost:8080/",
          "height": 424
        },
        "id": "clMaIiwLKMnd",
        "outputId": "085dcb1b-6c94-4a3e-d0ff-04fb2a71378a"
      },
      "execution_count": null,
      "outputs": [
        {
          "output_type": "execute_result",
          "data": {
            "text/plain": [
              "            Date        Open        High         Low       Close   Adj Close  \\\n",
              "0     1986-03-13    0.088542    0.101563    0.088542    0.097222    0.061109   \n",
              "1     1986-03-14    0.097222    0.102431    0.097222    0.100694    0.063292   \n",
              "2     1986-03-17    0.100694    0.103299    0.100694    0.102431    0.064384   \n",
              "3     1986-03-18    0.102431    0.103299    0.098958    0.099826    0.062746   \n",
              "4     1986-03-19    0.099826    0.100694    0.097222    0.098090    0.061655   \n",
              "...          ...         ...         ...         ...         ...         ...   \n",
              "9146  2022-06-27  268.209991  268.299988  263.279999  264.890015  264.890015   \n",
              "9147  2022-06-28  263.980011  266.910004  256.320007  256.480011  256.480011   \n",
              "9148  2022-06-29  257.589996  261.970001  255.759995  260.260010  260.260010   \n",
              "9149  2022-06-30  257.049988  259.529999  252.899994  256.829987  256.829987   \n",
              "9150  2022-07-01  256.390015  259.769989  254.610001  259.579987  259.579987   \n",
              "\n",
              "          Volume  \n",
              "0     1031788800  \n",
              "1      308160000  \n",
              "2      133171200  \n",
              "3       67766400  \n",
              "4       47894400  \n",
              "...          ...  \n",
              "9146    24615100  \n",
              "9147    27295500  \n",
              "9148    20069800  \n",
              "9149    31730900  \n",
              "9150    22825200  \n",
              "\n",
              "[9151 rows x 7 columns]"
            ],
            "text/html": [
              "\n",
              "  <div id=\"df-f8ea6ccf-aa7a-47ee-abd1-c079e2ef6f55\">\n",
              "    <div class=\"colab-df-container\">\n",
              "      <div>\n",
              "<style scoped>\n",
              "    .dataframe tbody tr th:only-of-type {\n",
              "        vertical-align: middle;\n",
              "    }\n",
              "\n",
              "    .dataframe tbody tr th {\n",
              "        vertical-align: top;\n",
              "    }\n",
              "\n",
              "    .dataframe thead th {\n",
              "        text-align: right;\n",
              "    }\n",
              "</style>\n",
              "<table border=\"1\" class=\"dataframe\">\n",
              "  <thead>\n",
              "    <tr style=\"text-align: right;\">\n",
              "      <th></th>\n",
              "      <th>Date</th>\n",
              "      <th>Open</th>\n",
              "      <th>High</th>\n",
              "      <th>Low</th>\n",
              "      <th>Close</th>\n",
              "      <th>Adj Close</th>\n",
              "      <th>Volume</th>\n",
              "    </tr>\n",
              "  </thead>\n",
              "  <tbody>\n",
              "    <tr>\n",
              "      <th>0</th>\n",
              "      <td>1986-03-13</td>\n",
              "      <td>0.088542</td>\n",
              "      <td>0.101563</td>\n",
              "      <td>0.088542</td>\n",
              "      <td>0.097222</td>\n",
              "      <td>0.061109</td>\n",
              "      <td>1031788800</td>\n",
              "    </tr>\n",
              "    <tr>\n",
              "      <th>1</th>\n",
              "      <td>1986-03-14</td>\n",
              "      <td>0.097222</td>\n",
              "      <td>0.102431</td>\n",
              "      <td>0.097222</td>\n",
              "      <td>0.100694</td>\n",
              "      <td>0.063292</td>\n",
              "      <td>308160000</td>\n",
              "    </tr>\n",
              "    <tr>\n",
              "      <th>2</th>\n",
              "      <td>1986-03-17</td>\n",
              "      <td>0.100694</td>\n",
              "      <td>0.103299</td>\n",
              "      <td>0.100694</td>\n",
              "      <td>0.102431</td>\n",
              "      <td>0.064384</td>\n",
              "      <td>133171200</td>\n",
              "    </tr>\n",
              "    <tr>\n",
              "      <th>3</th>\n",
              "      <td>1986-03-18</td>\n",
              "      <td>0.102431</td>\n",
              "      <td>0.103299</td>\n",
              "      <td>0.098958</td>\n",
              "      <td>0.099826</td>\n",
              "      <td>0.062746</td>\n",
              "      <td>67766400</td>\n",
              "    </tr>\n",
              "    <tr>\n",
              "      <th>4</th>\n",
              "      <td>1986-03-19</td>\n",
              "      <td>0.099826</td>\n",
              "      <td>0.100694</td>\n",
              "      <td>0.097222</td>\n",
              "      <td>0.098090</td>\n",
              "      <td>0.061655</td>\n",
              "      <td>47894400</td>\n",
              "    </tr>\n",
              "    <tr>\n",
              "      <th>...</th>\n",
              "      <td>...</td>\n",
              "      <td>...</td>\n",
              "      <td>...</td>\n",
              "      <td>...</td>\n",
              "      <td>...</td>\n",
              "      <td>...</td>\n",
              "      <td>...</td>\n",
              "    </tr>\n",
              "    <tr>\n",
              "      <th>9146</th>\n",
              "      <td>2022-06-27</td>\n",
              "      <td>268.209991</td>\n",
              "      <td>268.299988</td>\n",
              "      <td>263.279999</td>\n",
              "      <td>264.890015</td>\n",
              "      <td>264.890015</td>\n",
              "      <td>24615100</td>\n",
              "    </tr>\n",
              "    <tr>\n",
              "      <th>9147</th>\n",
              "      <td>2022-06-28</td>\n",
              "      <td>263.980011</td>\n",
              "      <td>266.910004</td>\n",
              "      <td>256.320007</td>\n",
              "      <td>256.480011</td>\n",
              "      <td>256.480011</td>\n",
              "      <td>27295500</td>\n",
              "    </tr>\n",
              "    <tr>\n",
              "      <th>9148</th>\n",
              "      <td>2022-06-29</td>\n",
              "      <td>257.589996</td>\n",
              "      <td>261.970001</td>\n",
              "      <td>255.759995</td>\n",
              "      <td>260.260010</td>\n",
              "      <td>260.260010</td>\n",
              "      <td>20069800</td>\n",
              "    </tr>\n",
              "    <tr>\n",
              "      <th>9149</th>\n",
              "      <td>2022-06-30</td>\n",
              "      <td>257.049988</td>\n",
              "      <td>259.529999</td>\n",
              "      <td>252.899994</td>\n",
              "      <td>256.829987</td>\n",
              "      <td>256.829987</td>\n",
              "      <td>31730900</td>\n",
              "    </tr>\n",
              "    <tr>\n",
              "      <th>9150</th>\n",
              "      <td>2022-07-01</td>\n",
              "      <td>256.390015</td>\n",
              "      <td>259.769989</td>\n",
              "      <td>254.610001</td>\n",
              "      <td>259.579987</td>\n",
              "      <td>259.579987</td>\n",
              "      <td>22825200</td>\n",
              "    </tr>\n",
              "  </tbody>\n",
              "</table>\n",
              "<p>9151 rows × 7 columns</p>\n",
              "</div>\n",
              "      <button class=\"colab-df-convert\" onclick=\"convertToInteractive('df-f8ea6ccf-aa7a-47ee-abd1-c079e2ef6f55')\"\n",
              "              title=\"Convert this dataframe to an interactive table.\"\n",
              "              style=\"display:none;\">\n",
              "        \n",
              "  <svg xmlns=\"http://www.w3.org/2000/svg\" height=\"24px\"viewBox=\"0 0 24 24\"\n",
              "       width=\"24px\">\n",
              "    <path d=\"M0 0h24v24H0V0z\" fill=\"none\"/>\n",
              "    <path d=\"M18.56 5.44l.94 2.06.94-2.06 2.06-.94-2.06-.94-.94-2.06-.94 2.06-2.06.94zm-11 1L8.5 8.5l.94-2.06 2.06-.94-2.06-.94L8.5 2.5l-.94 2.06-2.06.94zm10 10l.94 2.06.94-2.06 2.06-.94-2.06-.94-.94-2.06-.94 2.06-2.06.94z\"/><path d=\"M17.41 7.96l-1.37-1.37c-.4-.4-.92-.59-1.43-.59-.52 0-1.04.2-1.43.59L10.3 9.45l-7.72 7.72c-.78.78-.78 2.05 0 2.83L4 21.41c.39.39.9.59 1.41.59.51 0 1.02-.2 1.41-.59l7.78-7.78 2.81-2.81c.8-.78.8-2.07 0-2.86zM5.41 20L4 18.59l7.72-7.72 1.47 1.35L5.41 20z\"/>\n",
              "  </svg>\n",
              "      </button>\n",
              "      \n",
              "  <style>\n",
              "    .colab-df-container {\n",
              "      display:flex;\n",
              "      flex-wrap:wrap;\n",
              "      gap: 12px;\n",
              "    }\n",
              "\n",
              "    .colab-df-convert {\n",
              "      background-color: #E8F0FE;\n",
              "      border: none;\n",
              "      border-radius: 50%;\n",
              "      cursor: pointer;\n",
              "      display: none;\n",
              "      fill: #1967D2;\n",
              "      height: 32px;\n",
              "      padding: 0 0 0 0;\n",
              "      width: 32px;\n",
              "    }\n",
              "\n",
              "    .colab-df-convert:hover {\n",
              "      background-color: #E2EBFA;\n",
              "      box-shadow: 0px 1px 2px rgba(60, 64, 67, 0.3), 0px 1px 3px 1px rgba(60, 64, 67, 0.15);\n",
              "      fill: #174EA6;\n",
              "    }\n",
              "\n",
              "    [theme=dark] .colab-df-convert {\n",
              "      background-color: #3B4455;\n",
              "      fill: #D2E3FC;\n",
              "    }\n",
              "\n",
              "    [theme=dark] .colab-df-convert:hover {\n",
              "      background-color: #434B5C;\n",
              "      box-shadow: 0px 1px 3px 1px rgba(0, 0, 0, 0.15);\n",
              "      filter: drop-shadow(0px 1px 2px rgba(0, 0, 0, 0.3));\n",
              "      fill: #FFFFFF;\n",
              "    }\n",
              "  </style>\n",
              "\n",
              "      <script>\n",
              "        const buttonEl =\n",
              "          document.querySelector('#df-f8ea6ccf-aa7a-47ee-abd1-c079e2ef6f55 button.colab-df-convert');\n",
              "        buttonEl.style.display =\n",
              "          google.colab.kernel.accessAllowed ? 'block' : 'none';\n",
              "\n",
              "        async function convertToInteractive(key) {\n",
              "          const element = document.querySelector('#df-f8ea6ccf-aa7a-47ee-abd1-c079e2ef6f55');\n",
              "          const dataTable =\n",
              "            await google.colab.kernel.invokeFunction('convertToInteractive',\n",
              "                                                     [key], {});\n",
              "          if (!dataTable) return;\n",
              "\n",
              "          const docLinkHtml = 'Like what you see? Visit the ' +\n",
              "            '<a target=\"_blank\" href=https://colab.research.google.com/notebooks/data_table.ipynb>data table notebook</a>'\n",
              "            + ' to learn more about interactive tables.';\n",
              "          element.innerHTML = '';\n",
              "          dataTable['output_type'] = 'display_data';\n",
              "          await google.colab.output.renderOutput(dataTable, element);\n",
              "          const docLink = document.createElement('div');\n",
              "          docLink.innerHTML = docLinkHtml;\n",
              "          element.appendChild(docLink);\n",
              "        }\n",
              "      </script>\n",
              "    </div>\n",
              "  </div>\n",
              "  "
            ]
          },
          "metadata": {},
          "execution_count": 50
        }
      ]
    },
    {
      "cell_type": "code",
      "source": [
        ""
      ],
      "metadata": {
        "id": "sZQcGbWYeWSA"
      },
      "execution_count": null,
      "outputs": []
    },
    {
      "cell_type": "code",
      "source": [
        "df=df[ ['Date','Close']]\n",
        "df"
      ],
      "metadata": {
        "id": "1iJqmEw5Kbs7",
        "colab": {
          "base_uri": "https://localhost:8080/",
          "height": 424
        },
        "outputId": "40d1d1e4-d66b-4fee-dcb5-22c6bdc58e66"
      },
      "execution_count": null,
      "outputs": [
        {
          "output_type": "execute_result",
          "data": {
            "text/plain": [
              "            Date       Close\n",
              "0     1986-03-13    0.097222\n",
              "1     1986-03-14    0.100694\n",
              "2     1986-03-17    0.102431\n",
              "3     1986-03-18    0.099826\n",
              "4     1986-03-19    0.098090\n",
              "...          ...         ...\n",
              "9146  2022-06-27  264.890015\n",
              "9147  2022-06-28  256.480011\n",
              "9148  2022-06-29  260.260010\n",
              "9149  2022-06-30  256.829987\n",
              "9150  2022-07-01  259.579987\n",
              "\n",
              "[9151 rows x 2 columns]"
            ],
            "text/html": [
              "\n",
              "  <div id=\"df-1647e7c3-5eef-4cd0-b07b-8fb1fa51a8f6\">\n",
              "    <div class=\"colab-df-container\">\n",
              "      <div>\n",
              "<style scoped>\n",
              "    .dataframe tbody tr th:only-of-type {\n",
              "        vertical-align: middle;\n",
              "    }\n",
              "\n",
              "    .dataframe tbody tr th {\n",
              "        vertical-align: top;\n",
              "    }\n",
              "\n",
              "    .dataframe thead th {\n",
              "        text-align: right;\n",
              "    }\n",
              "</style>\n",
              "<table border=\"1\" class=\"dataframe\">\n",
              "  <thead>\n",
              "    <tr style=\"text-align: right;\">\n",
              "      <th></th>\n",
              "      <th>Date</th>\n",
              "      <th>Close</th>\n",
              "    </tr>\n",
              "  </thead>\n",
              "  <tbody>\n",
              "    <tr>\n",
              "      <th>0</th>\n",
              "      <td>1986-03-13</td>\n",
              "      <td>0.097222</td>\n",
              "    </tr>\n",
              "    <tr>\n",
              "      <th>1</th>\n",
              "      <td>1986-03-14</td>\n",
              "      <td>0.100694</td>\n",
              "    </tr>\n",
              "    <tr>\n",
              "      <th>2</th>\n",
              "      <td>1986-03-17</td>\n",
              "      <td>0.102431</td>\n",
              "    </tr>\n",
              "    <tr>\n",
              "      <th>3</th>\n",
              "      <td>1986-03-18</td>\n",
              "      <td>0.099826</td>\n",
              "    </tr>\n",
              "    <tr>\n",
              "      <th>4</th>\n",
              "      <td>1986-03-19</td>\n",
              "      <td>0.098090</td>\n",
              "    </tr>\n",
              "    <tr>\n",
              "      <th>...</th>\n",
              "      <td>...</td>\n",
              "      <td>...</td>\n",
              "    </tr>\n",
              "    <tr>\n",
              "      <th>9146</th>\n",
              "      <td>2022-06-27</td>\n",
              "      <td>264.890015</td>\n",
              "    </tr>\n",
              "    <tr>\n",
              "      <th>9147</th>\n",
              "      <td>2022-06-28</td>\n",
              "      <td>256.480011</td>\n",
              "    </tr>\n",
              "    <tr>\n",
              "      <th>9148</th>\n",
              "      <td>2022-06-29</td>\n",
              "      <td>260.260010</td>\n",
              "    </tr>\n",
              "    <tr>\n",
              "      <th>9149</th>\n",
              "      <td>2022-06-30</td>\n",
              "      <td>256.829987</td>\n",
              "    </tr>\n",
              "    <tr>\n",
              "      <th>9150</th>\n",
              "      <td>2022-07-01</td>\n",
              "      <td>259.579987</td>\n",
              "    </tr>\n",
              "  </tbody>\n",
              "</table>\n",
              "<p>9151 rows × 2 columns</p>\n",
              "</div>\n",
              "      <button class=\"colab-df-convert\" onclick=\"convertToInteractive('df-1647e7c3-5eef-4cd0-b07b-8fb1fa51a8f6')\"\n",
              "              title=\"Convert this dataframe to an interactive table.\"\n",
              "              style=\"display:none;\">\n",
              "        \n",
              "  <svg xmlns=\"http://www.w3.org/2000/svg\" height=\"24px\"viewBox=\"0 0 24 24\"\n",
              "       width=\"24px\">\n",
              "    <path d=\"M0 0h24v24H0V0z\" fill=\"none\"/>\n",
              "    <path d=\"M18.56 5.44l.94 2.06.94-2.06 2.06-.94-2.06-.94-.94-2.06-.94 2.06-2.06.94zm-11 1L8.5 8.5l.94-2.06 2.06-.94-2.06-.94L8.5 2.5l-.94 2.06-2.06.94zm10 10l.94 2.06.94-2.06 2.06-.94-2.06-.94-.94-2.06-.94 2.06-2.06.94z\"/><path d=\"M17.41 7.96l-1.37-1.37c-.4-.4-.92-.59-1.43-.59-.52 0-1.04.2-1.43.59L10.3 9.45l-7.72 7.72c-.78.78-.78 2.05 0 2.83L4 21.41c.39.39.9.59 1.41.59.51 0 1.02-.2 1.41-.59l7.78-7.78 2.81-2.81c.8-.78.8-2.07 0-2.86zM5.41 20L4 18.59l7.72-7.72 1.47 1.35L5.41 20z\"/>\n",
              "  </svg>\n",
              "      </button>\n",
              "      \n",
              "  <style>\n",
              "    .colab-df-container {\n",
              "      display:flex;\n",
              "      flex-wrap:wrap;\n",
              "      gap: 12px;\n",
              "    }\n",
              "\n",
              "    .colab-df-convert {\n",
              "      background-color: #E8F0FE;\n",
              "      border: none;\n",
              "      border-radius: 50%;\n",
              "      cursor: pointer;\n",
              "      display: none;\n",
              "      fill: #1967D2;\n",
              "      height: 32px;\n",
              "      padding: 0 0 0 0;\n",
              "      width: 32px;\n",
              "    }\n",
              "\n",
              "    .colab-df-convert:hover {\n",
              "      background-color: #E2EBFA;\n",
              "      box-shadow: 0px 1px 2px rgba(60, 64, 67, 0.3), 0px 1px 3px 1px rgba(60, 64, 67, 0.15);\n",
              "      fill: #174EA6;\n",
              "    }\n",
              "\n",
              "    [theme=dark] .colab-df-convert {\n",
              "      background-color: #3B4455;\n",
              "      fill: #D2E3FC;\n",
              "    }\n",
              "\n",
              "    [theme=dark] .colab-df-convert:hover {\n",
              "      background-color: #434B5C;\n",
              "      box-shadow: 0px 1px 3px 1px rgba(0, 0, 0, 0.15);\n",
              "      filter: drop-shadow(0px 1px 2px rgba(0, 0, 0, 0.3));\n",
              "      fill: #FFFFFF;\n",
              "    }\n",
              "  </style>\n",
              "\n",
              "      <script>\n",
              "        const buttonEl =\n",
              "          document.querySelector('#df-1647e7c3-5eef-4cd0-b07b-8fb1fa51a8f6 button.colab-df-convert');\n",
              "        buttonEl.style.display =\n",
              "          google.colab.kernel.accessAllowed ? 'block' : 'none';\n",
              "\n",
              "        async function convertToInteractive(key) {\n",
              "          const element = document.querySelector('#df-1647e7c3-5eef-4cd0-b07b-8fb1fa51a8f6');\n",
              "          const dataTable =\n",
              "            await google.colab.kernel.invokeFunction('convertToInteractive',\n",
              "                                                     [key], {});\n",
              "          if (!dataTable) return;\n",
              "\n",
              "          const docLinkHtml = 'Like what you see? Visit the ' +\n",
              "            '<a target=\"_blank\" href=https://colab.research.google.com/notebooks/data_table.ipynb>data table notebook</a>'\n",
              "            + ' to learn more about interactive tables.';\n",
              "          element.innerHTML = '';\n",
              "          dataTable['output_type'] = 'display_data';\n",
              "          await google.colab.output.renderOutput(dataTable, element);\n",
              "          const docLink = document.createElement('div');\n",
              "          docLink.innerHTML = docLinkHtml;\n",
              "          element.appendChild(docLink);\n",
              "        }\n",
              "      </script>\n",
              "    </div>\n",
              "  </div>\n",
              "  "
            ]
          },
          "metadata": {},
          "execution_count": 51
        }
      ]
    },
    {
      "cell_type": "code",
      "source": [
        "df['Date']"
      ],
      "metadata": {
        "id": "qTw8SY2uKuIc",
        "colab": {
          "base_uri": "https://localhost:8080/"
        },
        "outputId": "eb5128b8-e888-4772-d6f4-60eee24229c1"
      },
      "execution_count": null,
      "outputs": [
        {
          "output_type": "execute_result",
          "data": {
            "text/plain": [
              "0       1986-03-13\n",
              "1       1986-03-14\n",
              "2       1986-03-17\n",
              "3       1986-03-18\n",
              "4       1986-03-19\n",
              "           ...    \n",
              "9146    2022-06-27\n",
              "9147    2022-06-28\n",
              "9148    2022-06-29\n",
              "9149    2022-06-30\n",
              "9150    2022-07-01\n",
              "Name: Date, Length: 9151, dtype: object"
            ]
          },
          "metadata": {},
          "execution_count": 52
        }
      ]
    },
    {
      "cell_type": "code",
      "source": [
        "import datetime\n",
        "def str_to_datetime(s):\n",
        "  split=s.split('-')\n",
        "  year,month,day=int(split[0]),int(split[1]),int(split[2])\n",
        "  return datetime.datetime(year=year,month=month,day=day)\n",
        "\n",
        "datetime_object =str_to_datetime('1986-03-19')\n",
        "datetime_object\n",
        "datetime.datetime(1986,3,19,0,0)"
      ],
      "metadata": {
        "id": "D63UP5_2K180",
        "colab": {
          "base_uri": "https://localhost:8080/"
        },
        "outputId": "288ed282-54ed-4582-f9c5-bf180f211455"
      },
      "execution_count": null,
      "outputs": [
        {
          "output_type": "execute_result",
          "data": {
            "text/plain": [
              "datetime.datetime(1986, 3, 19, 0, 0)"
            ]
          },
          "metadata": {},
          "execution_count": 53
        }
      ]
    },
    {
      "cell_type": "code",
      "source": [
        "df['Date'] = df['Date'].apply(str_to_datetime)\n",
        "df['Date']\n"
      ],
      "metadata": {
        "id": "i_Mf-gmrMJfM",
        "colab": {
          "base_uri": "https://localhost:8080/"
        },
        "outputId": "471efed2-0c57-4094-f44f-fab5cf65b410"
      },
      "execution_count": null,
      "outputs": [
        {
          "output_type": "stream",
          "name": "stderr",
          "text": [
            "/usr/local/lib/python3.7/dist-packages/ipykernel_launcher.py:1: SettingWithCopyWarning: \n",
            "A value is trying to be set on a copy of a slice from a DataFrame.\n",
            "Try using .loc[row_indexer,col_indexer] = value instead\n",
            "\n",
            "See the caveats in the documentation: https://pandas.pydata.org/pandas-docs/stable/user_guide/indexing.html#returning-a-view-versus-a-copy\n",
            "  \"\"\"Entry point for launching an IPython kernel.\n"
          ]
        },
        {
          "output_type": "execute_result",
          "data": {
            "text/plain": [
              "0      1986-03-13\n",
              "1      1986-03-14\n",
              "2      1986-03-17\n",
              "3      1986-03-18\n",
              "4      1986-03-19\n",
              "          ...    \n",
              "9146   2022-06-27\n",
              "9147   2022-06-28\n",
              "9148   2022-06-29\n",
              "9149   2022-06-30\n",
              "9150   2022-07-01\n",
              "Name: Date, Length: 9151, dtype: datetime64[ns]"
            ]
          },
          "metadata": {},
          "execution_count": 54
        }
      ]
    },
    {
      "cell_type": "code",
      "source": [
        "df['Date']\n"
      ],
      "metadata": {
        "id": "sMPNDyEIPVCB",
        "colab": {
          "base_uri": "https://localhost:8080/"
        },
        "outputId": "1d9f37e3-ccd1-4ad8-be53-30443bbf0127"
      },
      "execution_count": null,
      "outputs": [
        {
          "output_type": "execute_result",
          "data": {
            "text/plain": [
              "0      1986-03-13\n",
              "1      1986-03-14\n",
              "2      1986-03-17\n",
              "3      1986-03-18\n",
              "4      1986-03-19\n",
              "          ...    \n",
              "9146   2022-06-27\n",
              "9147   2022-06-28\n",
              "9148   2022-06-29\n",
              "9149   2022-06-30\n",
              "9150   2022-07-01\n",
              "Name: Date, Length: 9151, dtype: datetime64[ns]"
            ]
          },
          "metadata": {},
          "execution_count": 55
        }
      ]
    },
    {
      "cell_type": "code",
      "source": [
        "df.index=df.pop('Date')\n",
        "df"
      ],
      "metadata": {
        "id": "fgPMzxgEPk13",
        "colab": {
          "base_uri": "https://localhost:8080/",
          "height": 455
        },
        "outputId": "8ced7edb-cb95-4d7d-d25a-65260ce6e345"
      },
      "execution_count": null,
      "outputs": [
        {
          "output_type": "execute_result",
          "data": {
            "text/plain": [
              "                 Close\n",
              "Date                  \n",
              "1986-03-13    0.097222\n",
              "1986-03-14    0.100694\n",
              "1986-03-17    0.102431\n",
              "1986-03-18    0.099826\n",
              "1986-03-19    0.098090\n",
              "...                ...\n",
              "2022-06-27  264.890015\n",
              "2022-06-28  256.480011\n",
              "2022-06-29  260.260010\n",
              "2022-06-30  256.829987\n",
              "2022-07-01  259.579987\n",
              "\n",
              "[9151 rows x 1 columns]"
            ],
            "text/html": [
              "\n",
              "  <div id=\"df-59e4ac9a-1caf-46b9-a105-244e00716388\">\n",
              "    <div class=\"colab-df-container\">\n",
              "      <div>\n",
              "<style scoped>\n",
              "    .dataframe tbody tr th:only-of-type {\n",
              "        vertical-align: middle;\n",
              "    }\n",
              "\n",
              "    .dataframe tbody tr th {\n",
              "        vertical-align: top;\n",
              "    }\n",
              "\n",
              "    .dataframe thead th {\n",
              "        text-align: right;\n",
              "    }\n",
              "</style>\n",
              "<table border=\"1\" class=\"dataframe\">\n",
              "  <thead>\n",
              "    <tr style=\"text-align: right;\">\n",
              "      <th></th>\n",
              "      <th>Close</th>\n",
              "    </tr>\n",
              "    <tr>\n",
              "      <th>Date</th>\n",
              "      <th></th>\n",
              "    </tr>\n",
              "  </thead>\n",
              "  <tbody>\n",
              "    <tr>\n",
              "      <th>1986-03-13</th>\n",
              "      <td>0.097222</td>\n",
              "    </tr>\n",
              "    <tr>\n",
              "      <th>1986-03-14</th>\n",
              "      <td>0.100694</td>\n",
              "    </tr>\n",
              "    <tr>\n",
              "      <th>1986-03-17</th>\n",
              "      <td>0.102431</td>\n",
              "    </tr>\n",
              "    <tr>\n",
              "      <th>1986-03-18</th>\n",
              "      <td>0.099826</td>\n",
              "    </tr>\n",
              "    <tr>\n",
              "      <th>1986-03-19</th>\n",
              "      <td>0.098090</td>\n",
              "    </tr>\n",
              "    <tr>\n",
              "      <th>...</th>\n",
              "      <td>...</td>\n",
              "    </tr>\n",
              "    <tr>\n",
              "      <th>2022-06-27</th>\n",
              "      <td>264.890015</td>\n",
              "    </tr>\n",
              "    <tr>\n",
              "      <th>2022-06-28</th>\n",
              "      <td>256.480011</td>\n",
              "    </tr>\n",
              "    <tr>\n",
              "      <th>2022-06-29</th>\n",
              "      <td>260.260010</td>\n",
              "    </tr>\n",
              "    <tr>\n",
              "      <th>2022-06-30</th>\n",
              "      <td>256.829987</td>\n",
              "    </tr>\n",
              "    <tr>\n",
              "      <th>2022-07-01</th>\n",
              "      <td>259.579987</td>\n",
              "    </tr>\n",
              "  </tbody>\n",
              "</table>\n",
              "<p>9151 rows × 1 columns</p>\n",
              "</div>\n",
              "      <button class=\"colab-df-convert\" onclick=\"convertToInteractive('df-59e4ac9a-1caf-46b9-a105-244e00716388')\"\n",
              "              title=\"Convert this dataframe to an interactive table.\"\n",
              "              style=\"display:none;\">\n",
              "        \n",
              "  <svg xmlns=\"http://www.w3.org/2000/svg\" height=\"24px\"viewBox=\"0 0 24 24\"\n",
              "       width=\"24px\">\n",
              "    <path d=\"M0 0h24v24H0V0z\" fill=\"none\"/>\n",
              "    <path d=\"M18.56 5.44l.94 2.06.94-2.06 2.06-.94-2.06-.94-.94-2.06-.94 2.06-2.06.94zm-11 1L8.5 8.5l.94-2.06 2.06-.94-2.06-.94L8.5 2.5l-.94 2.06-2.06.94zm10 10l.94 2.06.94-2.06 2.06-.94-2.06-.94-.94-2.06-.94 2.06-2.06.94z\"/><path d=\"M17.41 7.96l-1.37-1.37c-.4-.4-.92-.59-1.43-.59-.52 0-1.04.2-1.43.59L10.3 9.45l-7.72 7.72c-.78.78-.78 2.05 0 2.83L4 21.41c.39.39.9.59 1.41.59.51 0 1.02-.2 1.41-.59l7.78-7.78 2.81-2.81c.8-.78.8-2.07 0-2.86zM5.41 20L4 18.59l7.72-7.72 1.47 1.35L5.41 20z\"/>\n",
              "  </svg>\n",
              "      </button>\n",
              "      \n",
              "  <style>\n",
              "    .colab-df-container {\n",
              "      display:flex;\n",
              "      flex-wrap:wrap;\n",
              "      gap: 12px;\n",
              "    }\n",
              "\n",
              "    .colab-df-convert {\n",
              "      background-color: #E8F0FE;\n",
              "      border: none;\n",
              "      border-radius: 50%;\n",
              "      cursor: pointer;\n",
              "      display: none;\n",
              "      fill: #1967D2;\n",
              "      height: 32px;\n",
              "      padding: 0 0 0 0;\n",
              "      width: 32px;\n",
              "    }\n",
              "\n",
              "    .colab-df-convert:hover {\n",
              "      background-color: #E2EBFA;\n",
              "      box-shadow: 0px 1px 2px rgba(60, 64, 67, 0.3), 0px 1px 3px 1px rgba(60, 64, 67, 0.15);\n",
              "      fill: #174EA6;\n",
              "    }\n",
              "\n",
              "    [theme=dark] .colab-df-convert {\n",
              "      background-color: #3B4455;\n",
              "      fill: #D2E3FC;\n",
              "    }\n",
              "\n",
              "    [theme=dark] .colab-df-convert:hover {\n",
              "      background-color: #434B5C;\n",
              "      box-shadow: 0px 1px 3px 1px rgba(0, 0, 0, 0.15);\n",
              "      filter: drop-shadow(0px 1px 2px rgba(0, 0, 0, 0.3));\n",
              "      fill: #FFFFFF;\n",
              "    }\n",
              "  </style>\n",
              "\n",
              "      <script>\n",
              "        const buttonEl =\n",
              "          document.querySelector('#df-59e4ac9a-1caf-46b9-a105-244e00716388 button.colab-df-convert');\n",
              "        buttonEl.style.display =\n",
              "          google.colab.kernel.accessAllowed ? 'block' : 'none';\n",
              "\n",
              "        async function convertToInteractive(key) {\n",
              "          const element = document.querySelector('#df-59e4ac9a-1caf-46b9-a105-244e00716388');\n",
              "          const dataTable =\n",
              "            await google.colab.kernel.invokeFunction('convertToInteractive',\n",
              "                                                     [key], {});\n",
              "          if (!dataTable) return;\n",
              "\n",
              "          const docLinkHtml = 'Like what you see? Visit the ' +\n",
              "            '<a target=\"_blank\" href=https://colab.research.google.com/notebooks/data_table.ipynb>data table notebook</a>'\n",
              "            + ' to learn more about interactive tables.';\n",
              "          element.innerHTML = '';\n",
              "          dataTable['output_type'] = 'display_data';\n",
              "          await google.colab.output.renderOutput(dataTable, element);\n",
              "          const docLink = document.createElement('div');\n",
              "          docLink.innerHTML = docLinkHtml;\n",
              "          element.appendChild(docLink);\n",
              "        }\n",
              "      </script>\n",
              "    </div>\n",
              "  </div>\n",
              "  "
            ]
          },
          "metadata": {},
          "execution_count": 56
        }
      ]
    },
    {
      "cell_type": "code",
      "source": [
        "import matplotlib.pyplot as plt\n",
        "plt.plot( df.index,df['Close'])"
      ],
      "metadata": {
        "id": "gQT77xiAPxnC",
        "colab": {
          "base_uri": "https://localhost:8080/",
          "height": 282
        },
        "outputId": "47617602-98e7-4312-c2ca-d4c79f33efd0"
      },
      "execution_count": null,
      "outputs": [
        {
          "output_type": "execute_result",
          "data": {
            "text/plain": [
              "[<matplotlib.lines.Line2D at 0x7f0aa002bf90>]"
            ]
          },
          "metadata": {},
          "execution_count": 57
        },
        {
          "output_type": "display_data",
          "data": {
            "text/plain": [
              "<Figure size 432x288 with 1 Axes>"
            ],
            "image/png": "[encoded data removed]"
          },
          "metadata": {
            "needs_background": "light"
          }
        }
      ]
    },
    {
      "cell_type": "code",
      "source": [
        "import numpy as np\n",
        "\n",
        "def df_to_windowed_df(dataframe, first_date_str, last_date_str, n=3):\n",
        "  first_date = str_to_datetime(first_date_str)\n",
        "  last_date  = str_to_datetime(last_date_str)\n",
        "\n",
        "  target_date = first_date\n",
        "  \n",
        "  dates = []\n",
        "  X, Y = [], []\n",
        "\n",
        "  last_time = False\n",
        "  while True:\n",
        "    df_subset = dataframe.loc[:target_date].tail(n+1)\n",
        "    \n",
        "    if len(df_subset) != n+1:\n",
        "      print(f'Error: Window of size {n} is too large for date {target_date}')\n",
        "      return\n",
        "\n",
        "    values = df_subset['Close'].to_numpy()\n",
        "    x, y = values[:-1], values[-1]\n",
        "\n",
        "    dates.append(target_date)\n",
        "    X.append(x)\n",
        "    Y.append(y)\n",
        "\n",
        "    next_week = dataframe.loc[target_date:target_date+datetime.timedelta(days=7)]\n",
        "    next_datetime_str = str(next_week.head(2).tail(1).index.values[0])\n",
        "    next_date_str = next_datetime_str.split('T')[0]\n",
        "    year_month_day = next_date_str.split('-')\n",
        "    year, month, day = year_month_day\n",
        "    next_date = datetime.datetime(day=int(day), month=int(month), year=int(year))\n",
        "    \n",
        "    if last_time:\n",
        "      break\n",
        "    \n",
        "    target_date = next_date\n",
        "\n",
        "    if target_date == last_date:\n",
        "      last_time = True\n",
        "    \n",
        "  ret_df = pd.DataFrame({})\n",
        "  ret_df['Target Date'] = dates\n",
        "  \n",
        "  X = np.array(X)\n",
        "  for i in range(0, n):\n",
        "    X[:, i]\n",
        "    ret_df[f'Target-{n-i}'] = X[:, i]\n",
        "  \n",
        "  ret_df['Target'] = Y\n",
        "\n",
        "  return ret_df\n",
        "\n",
        "# Start day second time around: '2021-03-18'\n",
        "windowed_df = df_to_windowed_df(df, \n",
        "                                '2021-03-18', \n",
        "                                '2022-05-23', \n",
        "                                n=3)\n",
        "windowed_df"
      ],
      "metadata": {
        "id": "LZhzXoitQMhZ",
        "colab": {
          "base_uri": "https://localhost:8080/",
          "height": 424
        },
        "outputId": "3ae517c4-24d0-454d-bcf5-6d5b5d89c540"
      },
      "execution_count": null,
      "outputs": [
        {
          "output_type": "execute_result",
          "data": {
            "text/plain": [
              "    Target Date    Target-3    Target-2    Target-1      Target\n",
              "0    2021-03-18  234.809998  237.710007  237.039993  230.720001\n",
              "1    2021-03-19  237.710007  237.039993  230.720001  230.350006\n",
              "2    2021-03-22  237.039993  230.720001  230.350006  235.990005\n",
              "3    2021-03-23  230.720001  230.350006  235.990005  237.580002\n",
              "4    2021-03-24  230.350006  235.990005  237.580002  235.460007\n",
              "..          ...         ...         ...         ...         ...\n",
              "294  2022-05-17  255.350006  261.119995  261.500000  266.820007\n",
              "295  2022-05-18  261.119995  261.500000  266.820007  254.080002\n",
              "296  2022-05-19  261.500000  266.820007  254.080002  253.139999\n",
              "297  2022-05-20  266.820007  254.080002  253.139999  252.559998\n",
              "298  2022-05-23  254.080002  253.139999  252.559998  260.649994\n",
              "\n",
              "[299 rows x 5 columns]"
            ],
            "text/html": [
              "\n",
              "  <div id=\"df-3748ced9-32e6-4d11-b1c0-f768aeaccbbc\">\n",
              "    <div class=\"colab-df-container\">\n",
              "      <div>\n",
              "<style scoped>\n",
              "    .dataframe tbody tr th:only-of-type {\n",
              "        vertical-align: middle;\n",
              "    }\n",
              "\n",
              "    .dataframe tbody tr th {\n",
              "        vertical-align: top;\n",
              "    }\n",
              "\n",
              "    .dataframe thead th {\n",
              "        text-align: right;\n",
              "    }\n",
              "</style>\n",
              "<table border=\"1\" class=\"dataframe\">\n",
              "  <thead>\n",
              "    <tr style=\"text-align: right;\">\n",
              "      <th></th>\n",
              "      <th>Target Date</th>\n",
              "      <th>Target-3</th>\n",
              "      <th>Target-2</th>\n",
              "      <th>Target-1</th>\n",
              "      <th>Target</th>\n",
              "    </tr>\n",
              "  </thead>\n",
              "  <tbody>\n",
              "    <tr>\n",
              "      <th>0</th>\n",
              "      <td>2021-03-18</td>\n",
              "      <td>234.809998</td>\n",
              "      <td>237.710007</td>\n",
              "      <td>237.039993</td>\n",
              "      <td>230.720001</td>\n",
              "    </tr>\n",
              "    <tr>\n",
              "      <th>1</th>\n",
              "      <td>2021-03-19</td>\n",
              "      <td>237.710007</td>\n",
              "      <td>237.039993</td>\n",
              "      <td>230.720001</td>\n",
              "      <td>230.350006</td>\n",
              "    </tr>\n",
              "    <tr>\n",
              "      <th>2</th>\n",
              "      <td>2021-03-22</td>\n",
              "      <td>237.039993</td>\n",
              "      <td>230.720001</td>\n",
              "      <td>230.350006</td>\n",
              "      <td>235.990005</td>\n",
              "    </tr>\n",
              "    <tr>\n",
              "      <th>3</th>\n",
              "      <td>2021-03-23</td>\n",
              "      <td>230.720001</td>\n",
              "      <td>230.350006</td>\n",
              "      <td>235.990005</td>\n",
              "      <td>237.580002</td>\n",
              "    </tr>\n",
              "    <tr>\n",
              "      <th>4</th>\n",
              "      <td>2021-03-24</td>\n",
              "      <td>230.350006</td>\n",
              "      <td>235.990005</td>\n",
              "      <td>237.580002</td>\n",
              "      <td>235.460007</td>\n",
              "    </tr>\n",
              "    <tr>\n",
              "      <th>...</th>\n",
              "      <td>...</td>\n",
              "      <td>...</td>\n",
              "      <td>...</td>\n",
              "      <td>...</td>\n",
              "      <td>...</td>\n",
              "    </tr>\n",
              "    <tr>\n",
              "      <th>294</th>\n",
              "      <td>2022-05-17</td>\n",
              "      <td>255.350006</td>\n",
              "      <td>261.119995</td>\n",
              "      <td>261.500000</td>\n",
              "      <td>266.820007</td>\n",
              "    </tr>\n",
              "    <tr>\n",
              "      <th>295</th>\n",
              "      <td>2022-05-18</td>\n",
              "      <td>261.119995</td>\n",
              "      <td>261.500000</td>\n",
              "      <td>266.820007</td>\n",
              "      <td>254.080002</td>\n",
              "    </tr>\n",
              "    <tr>\n",
              "      <th>296</th>\n",
              "      <td>2022-05-19</td>\n",
              "      <td>261.500000</td>\n",
              "      <td>266.820007</td>\n",
              "      <td>254.080002</td>\n",
              "      <td>253.139999</td>\n",
              "    </tr>\n",
              "    <tr>\n",
              "      <th>297</th>\n",
              "      <td>2022-05-20</td>\n",
              "      <td>266.820007</td>\n",
              "      <td>254.080002</td>\n",
              "      <td>253.139999</td>\n",
              "      <td>252.559998</td>\n",
              "    </tr>\n",
              "    <tr>\n",
              "      <th>298</th>\n",
              "      <td>2022-05-23</td>\n",
              "      <td>254.080002</td>\n",
              "      <td>253.139999</td>\n",
              "      <td>252.559998</td>\n",
              "      <td>260.649994</td>\n",
              "    </tr>\n",
              "  </tbody>\n",
              "</table>\n",
              "<p>299 rows × 5 columns</p>\n",
              "</div>\n",
              "      <button class=\"colab-df-convert\" onclick=\"convertToInteractive('df-3748ced9-32e6-4d11-b1c0-f768aeaccbbc')\"\n",
              "              title=\"Convert this dataframe to an interactive table.\"\n",
              "              style=\"display:none;\">\n",
              "        \n",
              "  <svg xmlns=\"http://www.w3.org/2000/svg\" height=\"24px\"viewBox=\"0 0 24 24\"\n",
              "       width=\"24px\">\n",
              "    <path d=\"M0 0h24v24H0V0z\" fill=\"none\"/>\n",
              "    <path d=\"M18.56 5.44l.94 2.06.94-2.06 2.06-.94-2.06-.94-.94-2.06-.94 2.06-2.06.94zm-11 1L8.5 8.5l.94-2.06 2.06-.94-2.06-.94L8.5 2.5l-.94 2.06-2.06.94zm10 10l.94 2.06.94-2.06 2.06-.94-2.06-.94-.94-2.06-.94 2.06-2.06.94z\"/><path d=\"M17.41 7.96l-1.37-1.37c-.4-.4-.92-.59-1.43-.59-.52 0-1.04.2-1.43.59L10.3 9.45l-7.72 7.72c-.78.78-.78 2.05 0 2.83L4 21.41c.39.39.9.59 1.41.59.51 0 1.02-.2 1.41-.59l7.78-7.78 2.81-2.81c.8-.78.8-2.07 0-2.86zM5.41 20L4 18.59l7.72-7.72 1.47 1.35L5.41 20z\"/>\n",
              "  </svg>\n",
              "      </button>\n",
              "      \n",
              "  <style>\n",
              "    .colab-df-container {\n",
              "      display:flex;\n",
              "      flex-wrap:wrap;\n",
              "      gap: 12px;\n",
              "    }\n",
              "\n",
              "    .colab-df-convert {\n",
              "      background-color: #E8F0FE;\n",
              "      border: none;\n",
              "      border-radius: 50%;\n",
              "      cursor: pointer;\n",
              "      display: none;\n",
              "      fill: #1967D2;\n",
              "      height: 32px;\n",
              "      padding: 0 0 0 0;\n",
              "      width: 32px;\n",
              "    }\n",
              "\n",
              "    .colab-df-convert:hover {\n",
              "      background-color: #E2EBFA;\n",
              "      box-shadow: 0px 1px 2px rgba(60, 64, 67, 0.3), 0px 1px 3px 1px rgba(60, 64, 67, 0.15);\n",
              "      fill: #174EA6;\n",
              "    }\n",
              "\n",
              "    [theme=dark] .colab-df-convert {\n",
              "      background-color: #3B4455;\n",
              "      fill: #D2E3FC;\n",
              "    }\n",
              "\n",
              "    [theme=dark] .colab-df-convert:hover {\n",
              "      background-color: #434B5C;\n",
              "      box-shadow: 0px 1px 3px 1px rgba(0, 0, 0, 0.15);\n",
              "      filter: drop-shadow(0px 1px 2px rgba(0, 0, 0, 0.3));\n",
              "      fill: #FFFFFF;\n",
              "    }\n",
              "  </style>\n",
              "\n",
              "      <script>\n",
              "        const buttonEl =\n",
              "          document.querySelector('#df-3748ced9-32e6-4d11-b1c0-f768aeaccbbc button.colab-df-convert');\n",
              "        buttonEl.style.display =\n",
              "          google.colab.kernel.accessAllowed ? 'block' : 'none';\n",
              "\n",
              "        async function convertToInteractive(key) {\n",
              "          const element = document.querySelector('#df-3748ced9-32e6-4d11-b1c0-f768aeaccbbc');\n",
              "          const dataTable =\n",
              "            await google.colab.kernel.invokeFunction('convertToInteractive',\n",
              "                                                     [key], {});\n",
              "          if (!dataTable) return;\n",
              "\n",
              "          const docLinkHtml = 'Like what you see? Visit the ' +\n",
              "            '<a target=\"_blank\" href=https://colab.research.google.com/notebooks/data_table.ipynb>data table notebook</a>'\n",
              "            + ' to learn more about interactive tables.';\n",
              "          element.innerHTML = '';\n",
              "          dataTable['output_type'] = 'display_data';\n",
              "          await google.colab.output.renderOutput(dataTable, element);\n",
              "          const docLink = document.createElement('div');\n",
              "          docLink.innerHTML = docLinkHtml;\n",
              "          element.appendChild(docLink);\n",
              "        }\n",
              "      </script>\n",
              "    </div>\n",
              "  </div>\n",
              "  "
            ]
          },
          "metadata": {},
          "execution_count": 58
        }
      ]
    },
    {
      "cell_type": "code",
      "source": [
        "def windowed_df_to_date_X_y(windowed_dataframe):\n",
        "  df_as_np = windowed_dataframe.to_numpy()\n",
        "\n",
        "  dates = df_as_np[:,0]\n",
        "  middle_matrix =df_as_np[ :,1:-1]\n",
        "  X=middle_matrix.reshape((len(dates),middle_matrix.shape[1],1))\n",
        "\n",
        "  Y=df_as_np[:,-1]\n",
        "\n",
        "  return dates, X.astype(np.float32), Y.astype(np.float32)\n",
        "dates, X, y=windowed_df_to_date_X_y(windowed_df)\n",
        "dates.shape, X.shape, y.shape"
      ],
      "metadata": {
        "id": "ZmD4PdUBeac3",
        "colab": {
          "base_uri": "https://localhost:8080/"
        },
        "outputId": "0aabfae6-08a5-4cae-b457-58f183d28fe9"
      },
      "execution_count": null,
      "outputs": [
        {
          "output_type": "execute_result",
          "data": {
            "text/plain": [
              "((299,), (299, 3, 1), (299,))"
            ]
          },
          "metadata": {},
          "execution_count": 59
        }
      ]
    },
    {
      "cell_type": "code",
      "source": [
        "q_80=int(len(dates)* .8)\n",
        "q_90=int(len(dates)*.9)\n",
        "\n",
        "dates_train, X_train, y_train=dates[:q_80],X[:q_80],y[:q_80]\n",
        "\n",
        "dates_val,X_val,y_val=dates[q_80:q_90],X[q_80:q_90],y[q_80:q_90]\n",
        "dates_test,X_test,y_test=dates[q_90:],X[q_90:],y[q_90:]\n",
        "\n",
        "\n",
        "plt.plot(dates_train,y_train)\n",
        "plt.plot(dates_val,y_val)\n",
        "plt.plot(dates_test,y_test)\n",
        "\n",
        "plt.legend(['Train','Validation','Test'])"
      ],
      "metadata": {
        "id": "uqvYqFOUO_nB",
        "colab": {
          "base_uri": "https://localhost:8080/",
          "height": 282
        },
        "outputId": "d34e2b2a-7083-45e9-bcb0-462996bcb939"
      },
      "execution_count": null,
      "outputs": [
        {
          "output_type": "execute_result",
          "data": {
            "text/plain": [
              "<matplotlib.legend.Legend at 0x7f0a9ff58490>"
            ]
          },
          "metadata": {},
          "execution_count": 60
        },
        {
          "output_type": "display_data",
          "data": {
            "text/plain": [
              "<Figure size 432x288 with 1 Axes>"
            ],
            "image/png": "[encoded data removed]"
          },
          "metadata": {
            "needs_background": "light"
          }
        }
      ]
    },
    {
      "cell_type": "code",
      "source": [
        "from tensorflow.keras.models import Sequential\n",
        "from tensorflow.keras.optimizers import Adam \n",
        "from tensorflow.keras import layers\n",
        "\n",
        "model= Sequential([layers.Input((3,1)),\n",
        "                   layers.LSTM(64),\n",
        "                   layers.Dense(32,activation='relu'),\n",
        "                   layers.Dense(32,activation='relu'),\n",
        "                   layers.Dense(1)])\n",
        "model.compile(loss='mse',\n",
        "              optimizer=Adam(learning_rate=0.001),\n",
        "              metrics=['mean_absolute_error'])\n",
        "model.fit(X_train,y_train,validation_data=(X_val,y_val),epochs=100)"
      ],
      "metadata": {
        "colab": {
          "base_uri": "https://localhost:8080/"
        },
        "id": "wKSbwsJ3VK9b",
        "outputId": "66d79b0c-6052-43d4-935f-f3d5c6c5e065"
      },
      "execution_count": null,
      "outputs": [
        {
          "output_type": "stream",
          "name": "stdout",
          "text": [
            "Epoch 1/100\n",
            "8/8 [==============================] - 2s 74ms/step - loss: 84909.5156 - mean_absolute_error: 289.7683 - val_loss: 88650.5000 - val_mean_absolute_error: 297.5382\n",
            "Epoch 2/100\n",
            "8/8 [==============================] - 0s 8ms/step - loss: 84740.1562 - mean_absolute_error: 289.4761 - val_loss: 88480.0000 - val_mean_absolute_error: 297.2516\n",
            "Epoch 3/100\n",
            "8/8 [==============================] - 0s 8ms/step - loss: 84574.3828 - mean_absolute_error: 289.1884 - val_loss: 88289.4922 - val_mean_absolute_error: 296.9310\n",
            "Epoch 4/100\n",
            "8/8 [==============================] - 0s 7ms/step - loss: 84371.6406 - mean_absolute_error: 288.8381 - val_loss: 88047.2656 - val_mean_absolute_error: 296.5227\n",
            "Epoch 5/100\n",
            "8/8 [==============================] - 0s 7ms/step - loss: 84069.2188 - mean_absolute_error: 288.3112 - val_loss: 87621.1641 - val_mean_absolute_error: 295.8034\n",
            "Epoch 6/100\n",
            "8/8 [==============================] - 0s 8ms/step - loss: 83591.5000 - mean_absolute_error: 287.4852 - val_loss: 87038.5000 - val_mean_absolute_error: 294.8169\n",
            "Epoch 7/100\n",
            "8/8 [==============================] - 0s 7ms/step - loss: 82951.5469 - mean_absolute_error: 286.3669 - val_loss: 86229.8203 - val_mean_absolute_error: 293.4420\n",
            "Epoch 8/100\n",
            "8/8 [==============================] - 0s 7ms/step - loss: 82005.8750 - mean_absolute_error: 284.7114 - val_loss: 84918.1719 - val_mean_absolute_error: 291.1982\n",
            "Epoch 9/100\n",
            "8/8 [==============================] - 0s 7ms/step - loss: 80487.3594 - mean_absolute_error: 282.0329 - val_loss: 83174.8047 - val_mean_absolute_error: 288.1895\n",
            "Epoch 10/100\n",
            "8/8 [==============================] - 0s 7ms/step - loss: 78763.2109 - mean_absolute_error: 278.9632 - val_loss: 81247.8281 - val_mean_absolute_error: 284.8266\n",
            "Epoch 11/100\n",
            "8/8 [==============================] - 0s 7ms/step - loss: 76680.5703 - mean_absolute_error: 275.1862 - val_loss: 78831.7969 - val_mean_absolute_error: 280.5533\n",
            "Epoch 12/100\n",
            "8/8 [==============================] - 0s 7ms/step - loss: 74090.0312 - mean_absolute_error: 270.4567 - val_loss: 75728.2734 - val_mean_absolute_error: 274.9667\n",
            "Epoch 13/100\n",
            "8/8 [==============================] - 0s 7ms/step - loss: 70820.3828 - mean_absolute_error: 264.3184 - val_loss: 71870.5078 - val_mean_absolute_error: 267.8595\n",
            "Epoch 14/100\n",
            "8/8 [==============================] - 0s 7ms/step - loss: 66746.2109 - mean_absolute_error: 256.5074 - val_loss: 67409.8672 - val_mean_absolute_error: 259.3995\n",
            "Epoch 15/100\n",
            "8/8 [==============================] - 0s 7ms/step - loss: 62180.6133 - mean_absolute_error: 247.4630 - val_loss: 62158.4141 - val_mean_absolute_error: 249.0709\n",
            "Epoch 16/100\n",
            "8/8 [==============================] - 0s 7ms/step - loss: 56721.8203 - mean_absolute_error: 236.1352 - val_loss: 56122.1055 - val_mean_absolute_error: 236.6442\n",
            "Epoch 17/100\n",
            "8/8 [==============================] - 0s 8ms/step - loss: 50784.3047 - mean_absolute_error: 223.2511 - val_loss: 49701.6953 - val_mean_absolute_error: 222.6650\n",
            "Epoch 18/100\n",
            "8/8 [==============================] - 0s 7ms/step - loss: 44183.2539 - mean_absolute_error: 207.8568 - val_loss: 42198.2109 - val_mean_absolute_error: 205.1259\n",
            "Epoch 19/100\n",
            "8/8 [==============================] - 0s 7ms/step - loss: 36993.1016 - mean_absolute_error: 189.8812 - val_loss: 34916.7656 - val_mean_absolute_error: 186.5336\n",
            "Epoch 20/100\n",
            "8/8 [==============================] - 0s 7ms/step - loss: 29764.4414 - mean_absolute_error: 169.6357 - val_loss: 27250.0293 - val_mean_absolute_error: 164.7075\n",
            "Epoch 21/100\n",
            "8/8 [==============================] - 0s 7ms/step - loss: 22874.4375 - mean_absolute_error: 147.9996 - val_loss: 20541.3105 - val_mean_absolute_error: 142.8979\n",
            "Epoch 22/100\n",
            "8/8 [==============================] - 0s 9ms/step - loss: 16811.0566 - mean_absolute_error: 125.8465 - val_loss: 14611.4727 - val_mean_absolute_error: 120.3738\n",
            "Epoch 23/100\n",
            "8/8 [==============================] - 0s 8ms/step - loss: 11572.8701 - mean_absolute_error: 102.8566 - val_loss: 9501.3770 - val_mean_absolute_error: 96.8497\n",
            "Epoch 24/100\n",
            "8/8 [==============================] - 0s 8ms/step - loss: 7332.3047 - mean_absolute_error: 79.8829 - val_loss: 5728.1025 - val_mean_absolute_error: 74.8773\n",
            "Epoch 25/100\n",
            "8/8 [==============================] - 0s 8ms/step - loss: 4383.2109 - mean_absolute_error: 58.7110 - val_loss: 3123.4353 - val_mean_absolute_error: 54.7900\n",
            "Epoch 26/100\n",
            "8/8 [==============================] - 0s 7ms/step - loss: 2541.5010 - mean_absolute_error: 42.0151 - val_loss: 1528.5979 - val_mean_absolute_error: 37.5114\n",
            "Epoch 27/100\n",
            "8/8 [==============================] - 0s 8ms/step - loss: 1517.1207 - mean_absolute_error: 32.8181 - val_loss: 702.3850 - val_mean_absolute_error: 24.1017\n",
            "Epoch 28/100\n",
            "8/8 [==============================] - 0s 7ms/step - loss: 1102.3745 - mean_absolute_error: 28.3784 - val_loss: 333.2085 - val_mean_absolute_error: 16.0001\n",
            "Epoch 29/100\n",
            "8/8 [==============================] - 0s 7ms/step - loss: 964.9415 - mean_absolute_error: 26.1085 - val_loss: 202.9627 - val_mean_absolute_error: 12.2883\n",
            "Epoch 30/100\n",
            "8/8 [==============================] - 0s 7ms/step - loss: 950.6386 - mean_absolute_error: 25.5075 - val_loss: 161.1939 - val_mean_absolute_error: 10.9445\n",
            "Epoch 31/100\n",
            "8/8 [==============================] - 0s 7ms/step - loss: 947.4523 - mean_absolute_error: 25.3869 - val_loss: 154.5203 - val_mean_absolute_error: 10.6860\n",
            "Epoch 32/100\n",
            "8/8 [==============================] - 0s 7ms/step - loss: 948.3891 - mean_absolute_error: 25.3768 - val_loss: 158.3484 - val_mean_absolute_error: 10.8372\n",
            "Epoch 33/100\n",
            "8/8 [==============================] - 0s 7ms/step - loss: 946.8696 - mean_absolute_error: 25.4043 - val_loss: 165.5034 - val_mean_absolute_error: 11.1000\n",
            "Epoch 34/100\n",
            "8/8 [==============================] - 0s 8ms/step - loss: 945.3005 - mean_absolute_error: 25.4101 - val_loss: 168.2242 - val_mean_absolute_error: 11.1942\n",
            "Epoch 35/100\n",
            "8/8 [==============================] - 0s 7ms/step - loss: 944.2113 - mean_absolute_error: 25.4237 - val_loss: 177.3574 - val_mean_absolute_error: 11.4921\n",
            "Epoch 36/100\n",
            "8/8 [==============================] - 0s 7ms/step - loss: 943.7507 - mean_absolute_error: 25.4572 - val_loss: 183.8053 - val_mean_absolute_error: 11.6879\n",
            "Epoch 37/100\n",
            "8/8 [==============================] - 0s 9ms/step - loss: 943.7875 - mean_absolute_error: 25.4737 - val_loss: 185.9751 - val_mean_absolute_error: 11.7572\n",
            "Epoch 38/100\n",
            "8/8 [==============================] - 0s 8ms/step - loss: 944.5284 - mean_absolute_error: 25.5016 - val_loss: 192.8359 - val_mean_absolute_error: 11.9792\n",
            "Epoch 39/100\n",
            "8/8 [==============================] - 0s 7ms/step - loss: 943.9222 - mean_absolute_error: 25.4972 - val_loss: 189.0488 - val_mean_absolute_error: 11.8580\n",
            "Epoch 40/100\n",
            "8/8 [==============================] - 0s 7ms/step - loss: 943.7797 - mean_absolute_error: 25.4919 - val_loss: 189.1755 - val_mean_absolute_error: 11.8621\n",
            "Epoch 41/100\n",
            "8/8 [==============================] - 0s 7ms/step - loss: 944.6062 - mean_absolute_error: 25.4975 - val_loss: 183.9462 - val_mean_absolute_error: 11.6916\n",
            "Epoch 42/100\n",
            "8/8 [==============================] - 0s 7ms/step - loss: 938.9240 - mean_absolute_error: 25.4835 - val_loss: 216.6575 - val_mean_absolute_error: 12.7132\n",
            "Epoch 43/100\n",
            "8/8 [==============================] - 0s 7ms/step - loss: 919.9974 - mean_absolute_error: 25.2661 - val_loss: 220.7041 - val_mean_absolute_error: 12.8359\n",
            "Epoch 44/100\n",
            "8/8 [==============================] - 0s 7ms/step - loss: 915.8895 - mean_absolute_error: 25.1889 - val_loss: 196.2171 - val_mean_absolute_error: 12.0645\n",
            "Epoch 45/100\n",
            "8/8 [==============================] - 0s 7ms/step - loss: 902.7730 - mean_absolute_error: 24.9995 - val_loss: 204.1038 - val_mean_absolute_error: 12.3311\n",
            "Epoch 46/100\n",
            "8/8 [==============================] - 0s 8ms/step - loss: 907.3763 - mean_absolute_error: 25.8201 - val_loss: 152.6076 - val_mean_absolute_error: 10.6202\n",
            "Epoch 47/100\n",
            "8/8 [==============================] - 0s 8ms/step - loss: 895.6580 - mean_absolute_error: 24.7211 - val_loss: 238.6069 - val_mean_absolute_error: 13.4355\n",
            "Epoch 48/100\n",
            "8/8 [==============================] - 0s 8ms/step - loss: 869.5010 - mean_absolute_error: 24.8056 - val_loss: 159.8707 - val_mean_absolute_error: 10.8782\n",
            "Epoch 49/100\n",
            "8/8 [==============================] - 0s 8ms/step - loss: 850.6561 - mean_absolute_error: 24.1665 - val_loss: 212.0411 - val_mean_absolute_error: 12.6517\n",
            "Epoch 50/100\n",
            "8/8 [==============================] - 0s 7ms/step - loss: 810.6957 - mean_absolute_error: 23.6486 - val_loss: 188.0816 - val_mean_absolute_error: 11.8443\n",
            "Epoch 51/100\n",
            "8/8 [==============================] - 0s 8ms/step - loss: 797.6536 - mean_absolute_error: 23.5429 - val_loss: 149.7345 - val_mean_absolute_error: 10.4985\n",
            "Epoch 52/100\n",
            "8/8 [==============================] - 0s 9ms/step - loss: 782.0264 - mean_absolute_error: 23.2624 - val_loss: 153.2668 - val_mean_absolute_error: 10.6115\n",
            "Epoch 53/100\n",
            "8/8 [==============================] - 0s 7ms/step - loss: 764.9859 - mean_absolute_error: 22.8835 - val_loss: 198.7596 - val_mean_absolute_error: 12.2964\n",
            "Epoch 54/100\n",
            "8/8 [==============================] - 0s 7ms/step - loss: 743.4600 - mean_absolute_error: 22.6755 - val_loss: 166.9635 - val_mean_absolute_error: 11.1666\n",
            "Epoch 55/100\n",
            "8/8 [==============================] - 0s 9ms/step - loss: 725.2457 - mean_absolute_error: 22.5558 - val_loss: 110.0087 - val_mean_absolute_error: 8.7132\n",
            "Epoch 56/100\n",
            "8/8 [==============================] - 0s 7ms/step - loss: 698.6191 - mean_absolute_error: 21.7506 - val_loss: 150.3397 - val_mean_absolute_error: 10.5775\n",
            "Epoch 57/100\n",
            "8/8 [==============================] - 0s 7ms/step - loss: 651.2937 - mean_absolute_error: 21.1769 - val_loss: 162.8068 - val_mean_absolute_error: 11.1276\n",
            "Epoch 58/100\n",
            "8/8 [==============================] - 0s 10ms/step - loss: 614.5643 - mean_absolute_error: 20.6923 - val_loss: 118.8773 - val_mean_absolute_error: 9.2954\n",
            "Epoch 59/100\n",
            "8/8 [==============================] - 0s 8ms/step - loss: 579.8373 - mean_absolute_error: 19.9120 - val_loss: 271.8111 - val_mean_absolute_error: 14.6732\n",
            "Epoch 60/100\n",
            "8/8 [==============================] - 0s 7ms/step - loss: 547.7470 - mean_absolute_error: 19.5141 - val_loss: 91.0665 - val_mean_absolute_error: 7.8096\n",
            "Epoch 61/100\n",
            "8/8 [==============================] - 0s 7ms/step - loss: 499.5986 - mean_absolute_error: 18.5552 - val_loss: 158.5241 - val_mean_absolute_error: 11.1629\n",
            "Epoch 62/100\n",
            "8/8 [==============================] - 0s 7ms/step - loss: 443.1755 - mean_absolute_error: 17.4698 - val_loss: 108.7476 - val_mean_absolute_error: 9.1229\n",
            "Epoch 63/100\n",
            "8/8 [==============================] - 0s 8ms/step - loss: 361.4405 - mean_absolute_error: 15.5873 - val_loss: 108.9613 - val_mean_absolute_error: 9.2191\n",
            "Epoch 64/100\n",
            "8/8 [==============================] - 0s 7ms/step - loss: 286.4139 - mean_absolute_error: 13.7661 - val_loss: 56.3433 - val_mean_absolute_error: 5.9712\n",
            "Epoch 65/100\n",
            "8/8 [==============================] - 0s 8ms/step - loss: 245.3742 - mean_absolute_error: 12.4968 - val_loss: 57.1049 - val_mean_absolute_error: 5.6383\n",
            "Epoch 66/100\n",
            "8/8 [==============================] - 0s 7ms/step - loss: 205.0950 - mean_absolute_error: 11.4320 - val_loss: 50.0777 - val_mean_absolute_error: 6.0432\n",
            "Epoch 67/100\n",
            "8/8 [==============================] - 0s 9ms/step - loss: 180.0325 - mean_absolute_error: 10.8224 - val_loss: 88.2456 - val_mean_absolute_error: 8.2747\n",
            "Epoch 68/100\n",
            "8/8 [==============================] - 0s 7ms/step - loss: 128.7340 - mean_absolute_error: 8.8448 - val_loss: 45.7718 - val_mean_absolute_error: 5.7791\n",
            "Epoch 69/100\n",
            "8/8 [==============================] - 0s 7ms/step - loss: 89.7949 - mean_absolute_error: 7.0717 - val_loss: 39.2663 - val_mean_absolute_error: 5.2619\n",
            "Epoch 70/100\n",
            "8/8 [==============================] - 0s 7ms/step - loss: 71.6483 - mean_absolute_error: 6.3208 - val_loss: 39.3571 - val_mean_absolute_error: 4.9535\n",
            "Epoch 71/100\n",
            "8/8 [==============================] - 0s 7ms/step - loss: 59.9743 - mean_absolute_error: 5.7260 - val_loss: 42.7715 - val_mean_absolute_error: 5.1583\n",
            "Epoch 72/100\n",
            "8/8 [==============================] - 0s 7ms/step - loss: 50.3877 - mean_absolute_error: 5.2909 - val_loss: 39.1274 - val_mean_absolute_error: 4.9654\n",
            "Epoch 73/100\n",
            "8/8 [==============================] - 0s 7ms/step - loss: 46.1399 - mean_absolute_error: 5.1897 - val_loss: 56.7019 - val_mean_absolute_error: 6.0609\n",
            "Epoch 74/100\n",
            "8/8 [==============================] - 0s 8ms/step - loss: 38.5046 - mean_absolute_error: 4.8198 - val_loss: 41.4562 - val_mean_absolute_error: 5.3101\n",
            "Epoch 75/100\n",
            "8/8 [==============================] - 0s 8ms/step - loss: 39.1942 - mean_absolute_error: 4.7937 - val_loss: 37.5396 - val_mean_absolute_error: 4.9381\n",
            "Epoch 76/100\n",
            "8/8 [==============================] - 0s 8ms/step - loss: 30.7526 - mean_absolute_error: 4.2823 - val_loss: 38.1992 - val_mean_absolute_error: 5.0303\n",
            "Epoch 77/100\n",
            "8/8 [==============================] - 0s 8ms/step - loss: 32.1959 - mean_absolute_error: 4.3988 - val_loss: 47.3731 - val_mean_absolute_error: 5.5344\n",
            "Epoch 78/100\n",
            "8/8 [==============================] - 0s 7ms/step - loss: 32.0898 - mean_absolute_error: 4.3957 - val_loss: 76.1788 - val_mean_absolute_error: 7.2090\n",
            "Epoch 79/100\n",
            "8/8 [==============================] - 0s 7ms/step - loss: 37.4759 - mean_absolute_error: 4.8389 - val_loss: 48.2336 - val_mean_absolute_error: 5.6221\n",
            "Epoch 80/100\n",
            "8/8 [==============================] - 0s 7ms/step - loss: 32.3381 - mean_absolute_error: 4.5590 - val_loss: 42.3587 - val_mean_absolute_error: 5.2917\n",
            "Epoch 81/100\n",
            "8/8 [==============================] - 0s 7ms/step - loss: 27.0041 - mean_absolute_error: 4.1704 - val_loss: 48.7256 - val_mean_absolute_error: 5.6264\n",
            "Epoch 82/100\n",
            "8/8 [==============================] - 0s 9ms/step - loss: 30.4883 - mean_absolute_error: 4.5146 - val_loss: 80.9511 - val_mean_absolute_error: 7.4707\n",
            "Epoch 83/100\n",
            "8/8 [==============================] - 0s 8ms/step - loss: 29.6103 - mean_absolute_error: 4.4473 - val_loss: 51.3899 - val_mean_absolute_error: 5.7864\n",
            "Epoch 84/100\n",
            "8/8 [==============================] - 0s 7ms/step - loss: 24.8328 - mean_absolute_error: 3.9574 - val_loss: 42.7442 - val_mean_absolute_error: 5.2852\n",
            "Epoch 85/100\n",
            "8/8 [==============================] - 0s 7ms/step - loss: 22.9511 - mean_absolute_error: 3.7309 - val_loss: 40.4248 - val_mean_absolute_error: 5.1913\n",
            "Epoch 86/100\n",
            "8/8 [==============================] - 0s 8ms/step - loss: 23.4694 - mean_absolute_error: 3.8068 - val_loss: 45.2309 - val_mean_absolute_error: 5.4330\n",
            "Epoch 87/100\n",
            "8/8 [==============================] - 0s 7ms/step - loss: 24.3103 - mean_absolute_error: 3.8524 - val_loss: 46.5210 - val_mean_absolute_error: 5.5005\n",
            "Epoch 88/100\n",
            "8/8 [==============================] - 0s 7ms/step - loss: 25.1611 - mean_absolute_error: 3.9566 - val_loss: 47.4342 - val_mean_absolute_error: 5.5305\n",
            "Epoch 89/100\n",
            "8/8 [==============================] - 0s 7ms/step - loss: 28.4906 - mean_absolute_error: 4.3563 - val_loss: 40.7144 - val_mean_absolute_error: 5.2077\n",
            "Epoch 90/100\n",
            "8/8 [==============================] - 0s 7ms/step - loss: 27.1821 - mean_absolute_error: 4.1937 - val_loss: 49.5106 - val_mean_absolute_error: 5.6685\n",
            "Epoch 91/100\n",
            "8/8 [==============================] - 0s 8ms/step - loss: 22.3120 - mean_absolute_error: 3.7095 - val_loss: 39.3606 - val_mean_absolute_error: 5.1170\n",
            "Epoch 92/100\n",
            "8/8 [==============================] - 0s 7ms/step - loss: 21.7731 - mean_absolute_error: 3.6828 - val_loss: 41.4102 - val_mean_absolute_error: 5.2334\n",
            "Epoch 93/100\n",
            "8/8 [==============================] - 0s 8ms/step - loss: 21.3971 - mean_absolute_error: 3.6289 - val_loss: 41.0685 - val_mean_absolute_error: 5.2557\n",
            "Epoch 94/100\n",
            "8/8 [==============================] - 0s 8ms/step - loss: 24.7953 - mean_absolute_error: 3.8802 - val_loss: 64.1636 - val_mean_absolute_error: 6.5301\n",
            "Epoch 95/100\n",
            "8/8 [==============================] - 0s 8ms/step - loss: 32.5181 - mean_absolute_error: 4.5476 - val_loss: 38.7074 - val_mean_absolute_error: 5.0709\n",
            "Epoch 96/100\n",
            "8/8 [==============================] - 0s 8ms/step - loss: 25.2898 - mean_absolute_error: 3.9795 - val_loss: 39.6981 - val_mean_absolute_error: 5.1372\n",
            "Epoch 97/100\n",
            "8/8 [==============================] - 0s 9ms/step - loss: 22.3028 - mean_absolute_error: 3.7528 - val_loss: 44.2688 - val_mean_absolute_error: 5.4197\n",
            "Epoch 98/100\n",
            "8/8 [==============================] - 0s 8ms/step - loss: 21.3585 - mean_absolute_error: 3.5864 - val_loss: 40.1012 - val_mean_absolute_error: 5.1732\n",
            "Epoch 99/100\n",
            "8/8 [==============================] - 0s 7ms/step - loss: 22.0610 - mean_absolute_error: 3.7071 - val_loss: 41.3099 - val_mean_absolute_error: 5.2744\n",
            "Epoch 100/100\n",
            "8/8 [==============================] - 0s 7ms/step - loss: 26.1373 - mean_absolute_error: 4.0266 - val_loss: 53.6309 - val_mean_absolute_error: 5.9104\n"
          ]
        },
        {
          "output_type": "execute_result",
          "data": {
            "text/plain": [
              "<keras.callbacks.History at 0x7f0a9fe1b150>"
            ]
          },
          "metadata": {},
          "execution_count": 61
        }
      ]
    },
    {
      "cell_type": "code",
      "source": [
        "train_predictions= model.predict(X_train).flatten()\n",
        "\n",
        "plt.plot(dates_train,train_predictions)\n",
        "plt.plot(dates_train,y_train)\n",
        "plt.legend([ 'Training Predictions','Training Observations'])\n",
        "\n"
      ],
      "metadata": {
        "colab": {
          "base_uri": "https://localhost:8080/",
          "height": 282
        },
        "id": "ulEoGcR9YYKp",
        "outputId": "78385197-a004-43dc-a7ee-8b44cfc7ea2d"
      },
      "execution_count": null,
      "outputs": [
        {
          "output_type": "execute_result",
          "data": {
            "text/plain": [
              "<matplotlib.legend.Legend at 0x7f0a9cd06890>"
            ]
          },
          "metadata": {},
          "execution_count": 62
        },
        {
          "output_type": "display_data",
          "data": {
            "text/plain": [
              "<Figure size 432x288 with 1 Axes>"
            ],
            "image/png": "[encoded data removed]"
          },
          "metadata": {
            "needs_background": "light"
          }
        }
      ]
    },
    {
      "cell_type": "code",
      "source": [
        "val_predictions=model.predict(X_val).flatten()\n",
        "\n",
        "plt.plot(dates_val,val_predictions)\n",
        "plt.plot(dates_val,y_val)\n",
        "plt.legend(['Validation Predictions','Validation Observations'])"
      ],
      "metadata": {
        "colab": {
          "base_uri": "https://localhost:8080/",
          "height": 285
        },
        "id": "GjW2zOQhazI4",
        "outputId": "6ec0f1ac-3f58-4a8f-fc02-d5baa99f3504"
      },
      "execution_count": null,
      "outputs": [
        {
          "output_type": "execute_result",
          "data": {
            "text/plain": [
              "<matplotlib.legend.Legend at 0x7f0a9cc21910>"
            ]
          },
          "metadata": {},
          "execution_count": 63
        },
        {
          "output_type": "display_data",
          "data": {
            "text/plain": [
              "<Figure size 432x288 with 1 Axes>"
            ],
            "image/png": "[encoded data removed]"
          },
          "metadata": {
            "needs_background": "light"
          }
        }
      ]
    },
    {
      "cell_type": "code",
      "source": [
        "test_predictions=model.predict(X_test).flatten()\n",
        "\n",
        "plt.plot(dates_test,test_predictions)\n",
        "plt.plot(dates_test,y_test)\n",
        "plt.legend(['Testing Predictions','Testing Observations'])"
      ],
      "metadata": {
        "colab": {
          "base_uri": "https://localhost:8080/",
          "height": 282
        },
        "id": "m8D8YzXrbdaY",
        "outputId": "f8d2e40b-f04b-4e22-c8c8-170ce128dbe2"
      },
      "execution_count": null,
      "outputs": [
        {
          "output_type": "execute_result",
          "data": {
            "text/plain": [
              "<matplotlib.legend.Legend at 0x7f0a9cb9acd0>"
            ]
          },
          "metadata": {},
          "execution_count": 64
        },
        {
          "output_type": "display_data",
          "data": {
            "text/plain": [
              "<Figure size 432x288 with 1 Axes>"
            ],
            "image/png": "[encoded data removed]"
          },
          "metadata": {
            "needs_background": "light"
          }
        }
      ]
    },
    {
      "cell_type": "code",
      "source": [
        "plt.plot(dates_train, train_predictions)\n",
        "plt.plot(dates_train, y_train)\n",
        "plt.plot(dates_val, val_predictions)\n",
        "plt.plot(dates_val,y_val)\n",
        "plt.plot(dates_test,test_predictions)\n",
        "plt.plot(dates_test,y_test)\n",
        "plt.legend(['Training Predictions',\n",
        "            'Training Observations',\n",
        "            'Validation Predections',\n",
        "            'Validation Observations',\n",
        "            'Testing Predictions',\n",
        "            'Testing Observations'])"
      ],
      "metadata": {
        "colab": {
          "base_uri": "https://localhost:8080/",
          "height": 282
        },
        "id": "A14aCF4EcCx2",
        "outputId": "9701e403-ef4b-4b9e-ee6f-0384bc8be4a9"
      },
      "execution_count": null,
      "outputs": [
        {
          "output_type": "execute_result",
          "data": {
            "text/plain": [
              "<matplotlib.legend.Legend at 0x7f0a9cb56110>"
            ]
          },
          "metadata": {},
          "execution_count": 65
        },
        {
          "output_type": "display_data",
          "data": {
            "text/plain": [
              "<Figure size 432x288 with 1 Axes>"
            ],
            "image/png": "[encoded data removed]"
          },
          "metadata": {
            "needs_background": "light"
          }
        }
      ]
    },
    {
      "cell_type": "code",
      "source": [
        "from copy import deepcopy\n",
        "\n",
        "recursive_predictions=[]\n",
        "recursive_dates =np.concatenate([dates_val,dates_test])\n",
        "\n",
        "for target_date in recursive_dates:\n",
        "  last_window=deepcopy(X_train[-1])\n",
        "  next_prediction = model.predict(np.array([ last_window])).flatten()\n",
        "  recursive_predictions.append(next_prediction)\n",
        "  last_window[-1]=next_prediction"
      ],
      "metadata": {
        "id": "E4Jq5JCUcE5c"
      },
      "execution_count": null,
      "outputs": []
    },
    {
      "cell_type": "code",
      "source": [
        "plt.plot(dates_train, train_predictions)\n",
        "plt.plot(dates_train, y_train)\n",
        "plt.plot(dates_val, val_predictions)\n",
        "plt.plot(dates_val,y_val)\n",
        "plt.plot(dates_test,test_predictions)\n",
        "plt.plot(dates_test,y_test)\n",
        "plt.plot(recursive_dates,recursive_predictions)\n",
        "plt.legend(['Training Predictions',\n",
        "            'Training Observations',\n",
        "            'Validation Predections',\n",
        "            'Validation Observations',\n",
        "            'Testing Predictions',\n",
        "            'Testing Observations'])"
      ],
      "metadata": {
        "colab": {
          "base_uri": "https://localhost:8080/",
          "height": 282
        },
        "id": "kheYtl3QguRD",
        "outputId": "658ca15f-7a07-40c4-a656-27e79e2a7fea"
      },
      "execution_count": null,
      "outputs": [
        {
          "output_type": "execute_result",
          "data": {
            "text/plain": [
              "<matplotlib.legend.Legend at 0x7f0a9ca1df90>"
            ]
          },
          "metadata": {},
          "execution_count": 69
        },
        {
          "output_type": "display_data",
          "data": {
            "text/plain": [
              "<Figure size 432x288 with 1 Axes>"
            ],
            "image/png": "[encoded data removed]"
          },
          "metadata": {
            "needs_background": "light"
          }
        }
      ]
    }
  ]
}